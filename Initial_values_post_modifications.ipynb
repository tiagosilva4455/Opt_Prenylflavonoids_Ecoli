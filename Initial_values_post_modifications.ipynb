{
 "cells": [
  {
   "cell_type": "code",
   "execution_count": 238,
   "metadata": {},
   "outputs": [],
   "source": [
    "import cobra\n",
    "from mewpy import get_simulator"
   ]
  },
  {
   "cell_type": "code",
   "execution_count": 239,
   "metadata": {},
   "outputs": [
    {
     "name": "stdout",
     "output_type": "stream",
     "text": [
      "Values before changing objective:\n",
      "Biomass: 0.8794487903630085\n",
      "8-Prenylnaringenin: 0.0\n",
      "Xanthohumol: 0.0\n",
      "\n",
      "Model Objective change: Xanthohumol:\n",
      "Biomass: 0.0\n",
      "8-Prenylnaringenin: 0.0\n",
      "Xanthohumol: 2.110972346119544\n",
      "\n",
      "Model Objective change: 8-Prenylnaringenin:\n",
      "Biomass: 0.0\n",
      "8-Prenylnaringenin: 2.327142857142861\n",
      "Xanthohumol: 0.0\n"
     ]
    }
   ],
   "source": [
    "model = cobra.io.read_sbml_model(\"models/edited_e_coli.xml\")\n",
    "\n",
    "print(\"Values before changing objective:\")\n",
    "print(\"Biomass:\",model.optimize().fluxes[\"BIOMASS_Ec_iML1515_core_75p37M\"])\n",
    "print(\"8-Prenylnaringenin:\",model.optimize().fluxes[\"EX_8-pnarin_e\"])\n",
    "print(\"Xanthohumol:\",model.optimize().fluxes[\"EX_xh_e\"])\n",
    "print()\n",
    "\n",
    "print(\"Model Objective change: Xanthohumol:\")\n",
    "model.objective = \"EX_xh_e\"\n",
    "print(\"Biomass:\",model.optimize().fluxes[\"BIOMASS_Ec_iML1515_core_75p37M\"])\n",
    "print(\"8-Prenylnaringenin:\",model.optimize().fluxes[\"EX_8-pnarin_e\"])\n",
    "print(\"Xanthohumol:\",model.optimize().fluxes[\"EX_xh_e\"])\n",
    "print()\n",
    "\n",
    "print(\"Model Objective change: 8-Prenylnaringenin:\")\n",
    "model.objective = \"EX_8-pnarin_e\"\n",
    "print(\"Biomass:\",model.optimize().fluxes[\"BIOMASS_Ec_iML1515_core_75p37M\"])\n",
    "print(\"8-Prenylnaringenin:\",model.optimize().fluxes[\"EX_8-pnarin_e\"])\n",
    "print(\"Xanthohumol:\",model.optimize().fluxes[\"EX_xh_e\"])\n"
   ]
  },
  {
   "cell_type": "code",
   "execution_count": 240,
   "metadata": {},
   "outputs": [
    {
     "name": "stdout",
     "output_type": "stream",
     "text": [
      "Maximize\n",
      "1.0*BIOMASS_Ec_iML1515_core_75p37M - 1.0*BIOMASS_Ec_iML1515_core_75p37M_reverse_35685\n"
     ]
    }
   ],
   "source": [
    "model = cobra.io.read_sbml_model(\"models/edited_e_coli.xml\")\n",
    "\n",
    "envcond = {'EX_glc__D_e': (-10.0, 100000.0)}\n",
    "\n",
    "simul = get_simulator(model,envcond=envcond)\n",
    "\n",
    "print(model.objective)"
   ]
  },
  {
   "cell_type": "code",
   "execution_count": 241,
   "metadata": {},
   "outputs": [
    {
     "name": "stdout",
     "output_type": "stream",
     "text": [
      "Valor s/ alterações: 0.8794487903630085\n",
      "Valor c/ 1 knockout: 0.8794487903630107\n",
      "Valor c/ 2 knockout: 0.8794487903630107\n",
      "Valor c/ 3 knockout: 0.8794487903630107\n",
      "Valor c/ 4 knockout: 0.8794487903630107\n"
     ]
    }
   ],
   "source": [
    "print(\"Valor s/ alterações:\", simul.simulate().objective_value)\n",
    "model.genes.b1380.knock_out()\n",
    "print(\"Valor c/ 1 knockout:\", simul.simulate().objective_value)\n",
    "model.genes.b1241.knock_out()\n",
    "print(\"Valor c/ 2 knockout:\", simul.simulate().objective_value)\n",
    "model.genes.b1676.knock_out()\n",
    "print(\"Valor c/ 3 knockout:\", simul.simulate().objective_value)\n",
    "model.genes.b2715.knock_out()\n",
    "print(\"Valor c/ 4 knockout:\", simul.simulate().objective_value)"
   ]
  },
  {
   "cell_type": "code",
   "execution_count": 242,
   "metadata": {},
   "outputs": [
    {
     "data": {
      "text/plain": [
       "{'SHK3Dr': (1.3406985741374413, 10000),\n",
       " 'PSCVT': (1.340698574137441, 10000),\n",
       " 'CHORM': (1.1375986704910068, 10000),\n",
       " 'CHORS': (1.340698574137441, 10000),\n",
       " 'DHQTi': (1.3406985741374415, 10000),\n",
       " 'TKT1': (2.3689139116573363, 10000),\n",
       " 'DDPA': (1.3406985741374415, 10000),\n",
       " 'PPND': (1.1375986704910068, 10000),\n",
       " 'TKT2': (1.0297842741580947, 10000),\n",
       " 'SHKK': (1.340698574137441, 10000),\n",
       " 'DHQS': (1.3406985741374413, 10000)}"
      ]
     },
     "execution_count": 242,
     "metadata": {},
     "output_type": "execute_result"
    }
   ],
   "source": [
    "from mewpy.problems import GOUProblem\n",
    "GLC = \"EX_glc__D_e\"\n",
    "envcond = {GLC: (-10.0, 1000.0)}\n",
    "\n",
    "ovalue = 4\n",
    "\n",
    "problem = GOUProblem(simul,[], envcond=envcond) \n",
    "sim = problem.simulator\n",
    "solution = {'b0754': ovalue, 'b2600': ovalue, 'b1702': ovalue, 'b2935': ovalue, 'b0908' : ovalue, 'b0388' : ovalue,'b2329' : ovalue, 'b3281': ovalue , 'b1693': ovalue, 'b3389': ovalue}\n",
    "\n",
    "constraints = problem.solution_to_constraints(solution)\n",
    "constraints\n"
   ]
  },
  {
   "cell_type": "code",
   "execution_count": 243,
   "metadata": {},
   "outputs": [
    {
     "name": "stdout",
     "output_type": "stream",
     "text": [
      "Values before changing objective:\n",
      "Biomass: 0.8422630448553379\n",
      "8-Prenylnaringenin: 0.0\n",
      "Xanthohumol: 0.0\n",
      "\n",
      "Model Objective change: Xanthohumol:\n",
      "Biomass: 0.0\n",
      "8-Prenylnaringenin: 0.0\n",
      "Xanthohumol: 2.07913230023254\n",
      "\n",
      "Model Objective change: 8-Prenylnaringenin:\n",
      "Biomass: 0.0\n",
      "8-Prenylnaringenin: 2.2590828629046715\n",
      "Xanthohumol: 0.0\n"
     ]
    }
   ],
   "source": [
    "print(\"Values before changing objective:\")\n",
    "print(\"Biomass:\",sim.simulate(constraints=constraints).fluxes[\"BIOMASS_Ec_iML1515_core_75p37M\"])\n",
    "print(\"8-Prenylnaringenin:\",sim.simulate(constraints=constraints).fluxes[\"EX_8-pnarin_e\"])\n",
    "print(\"Xanthohumol:\",sim.simulate(constraints=constraints).fluxes[\"EX_xh_e\"])\n",
    "print()\n",
    "\n",
    "print(\"Model Objective change: Xanthohumol:\")\n",
    "model.objective = \"EX_xh_e\"\n",
    "print(\"Biomass:\",sim.simulate(constraints=constraints).fluxes[\"BIOMASS_Ec_iML1515_core_75p37M\"])\n",
    "print(\"8-Prenylnaringenin:\",sim.simulate(constraints=constraints).fluxes[\"EX_8-pnarin_e\"])\n",
    "print(\"Xanthohumol:\",sim.simulate(constraints=constraints).fluxes[\"EX_xh_e\"])\n",
    "print()\n",
    "\n",
    "print(\"Model Objective change: 8-Prenylnaringenin:\")\n",
    "model.objective = \"EX_8-pnarin_e\"\n",
    "print(\"Biomass:\",sim.simulate(constraints=constraints).fluxes[\"BIOMASS_Ec_iML1515_core_75p37M\"])\n",
    "print(\"8-Prenylnaringenin:\",sim.simulate(constraints=constraints).fluxes[\"EX_8-pnarin_e\"])\n",
    "print(\"Xanthohumol:\",sim.simulate(constraints=constraints).fluxes[\"EX_xh_e\"])"
   ]
  },
  {
   "cell_type": "code",
   "execution_count": 244,
   "metadata": {},
   "outputs": [],
   "source": [
    "model.objective = \"BIOMASS_Ec_iML1515_core_75p37M\"\n",
    "biomass_v = sim.simulate(constraints=constraints).fluxes[\"BIOMASS_Ec_iML1515_core_75p37M\"]\n",
    "fixed_biomass_v = biomass_v * 0.5\n",
    "model.reactions.get_by_id(\"BIOMASS_Ec_iML1515_core_75p37M\").lower_bound = fixed_biomass_v #Fixing biomass"
   ]
  },
  {
   "cell_type": "code",
   "execution_count": 245,
   "metadata": {},
   "outputs": [
    {
     "name": "stdout",
     "output_type": "stream",
     "text": [
      "Fixing biomass in the model by 0,5* its normal value\n",
      "BIOMASS FLUX: 0.421131522427566 , 1000.0\n",
      "\n",
      "Model Objective change: Xanthohumol:\n",
      "Biomass: 0.421131522427566\n",
      "8-Prenylnaringenin: 0.0\n",
      "Xanthohumol: 1.0767018191077316\n",
      "\n",
      "Model Objective change: 8-Prenylnaringenin:\n",
      "Biomass: 0.421131522427566\n",
      "8-Prenylnaringenin: 1.2047068374306629\n",
      "Xanthohumol: 0.0\n"
     ]
    }
   ],
   "source": [
    "print(\"Fixing biomass in the model by 0,5* its normal value\")\n",
    "model.reactions.get_by_id(\"BIOMASS_Ec_iML1515_core_75p37M\").lower_bound = fixed_biomass_v\n",
    "print(\"BIOMASS FLUX:\", model.reactions.get_by_id(\"BIOMASS_Ec_iML1515_core_75p37M\").lower_bound,\",\",model.reactions.get_by_id(\"BIOMASS_Ec_iML1515_core_75p37M\").upper_bound)\n",
    "print()\n",
    "\n",
    "print(\"Model Objective change: Xanthohumol:\")\n",
    "model.objective = \"EX_xh_e\"\n",
    "print(\"Biomass:\",sim.simulate(constraints=constraints).fluxes[\"BIOMASS_Ec_iML1515_core_75p37M\"])\n",
    "print(\"8-Prenylnaringenin:\",sim.simulate(constraints=constraints).fluxes[\"EX_8-pnarin_e\"])\n",
    "print(\"Xanthohumol:\",sim.simulate(constraints=constraints).fluxes[\"EX_xh_e\"])\n",
    "print()\n",
    "\n",
    "print(\"Model Objective change: 8-Prenylnaringenin:\")\n",
    "model.objective = \"EX_8-pnarin_e\"\n",
    "print(\"Biomass:\",sim.simulate(constraints=constraints).fluxes[\"BIOMASS_Ec_iML1515_core_75p37M\"])\n",
    "print(\"8-Prenylnaringenin:\",sim.simulate(constraints=constraints).fluxes[\"EX_8-pnarin_e\"])\n",
    "print(\"Xanthohumol:\",sim.simulate(constraints=constraints).fluxes[\"EX_xh_e\"])"
   ]
  },
  {
   "cell_type": "code",
   "execution_count": null,
   "metadata": {},
   "outputs": [],
   "source": [
    "from pprint import pprint\n",
    "from cobra.io import write_sbml_model, validate_sbml_model\n",
    "\n",
    "write_sbml_model(model, filename=\"models/edited_e_coli_w_fixed_biomass.xml\")\n",
    "report = validate_sbml_model(\"models/edited_e_coli_w_fixed_biomass.xml\")\n",
    "\n",
    "pprint(report)"
   ]
  }
 ],
 "metadata": {
  "kernelspec": {
   "display_name": "base",
   "language": "python",
   "name": "python3"
  },
  "language_info": {
   "codemirror_mode": {
    "name": "ipython",
    "version": 3
   },
   "file_extension": ".py",
   "mimetype": "text/x-python",
   "name": "python",
   "nbconvert_exporter": "python",
   "pygments_lexer": "ipython3",
   "version": "3.9.13"
  },
  "orig_nbformat": 4
 },
 "nbformat": 4,
 "nbformat_minor": 2
}
