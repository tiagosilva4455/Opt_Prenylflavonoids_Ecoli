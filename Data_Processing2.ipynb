{
 "cells": [
  {
   "attachments": {},
   "cell_type": "markdown",
   "metadata": {},
   "source": [
    "# Data Processing 8-prenylnaringenin"
   ]
  },
  {
   "cell_type": "code",
   "execution_count": 4,
   "metadata": {},
   "outputs": [],
   "source": [
    "import pandas as pd\n",
    "import numpy as np\n",
    "from cobra.io import read_sbml_model\n",
    "from mewpy.simulation import get_simulator"
   ]
  },
  {
   "cell_type": "code",
   "execution_count": 6,
   "metadata": {},
   "outputs": [
    {
     "name": "stdout",
     "output_type": "stream",
     "text": [
      "This dataframe has: 89 solutions and 5 columns.\n"
     ]
    },
    {
     "data": {
      "text/html": [
       "<div>\n",
       "<style scoped>\n",
       "    .dataframe tbody tr th:only-of-type {\n",
       "        vertical-align: middle;\n",
       "    }\n",
       "\n",
       "    .dataframe tbody tr th {\n",
       "        vertical-align: top;\n",
       "    }\n",
       "\n",
       "    .dataframe thead th {\n",
       "        text-align: right;\n",
       "    }\n",
       "</style>\n",
       "<table border=\"1\" class=\"dataframe\">\n",
       "  <thead>\n",
       "    <tr style=\"text-align: right;\">\n",
       "      <th></th>\n",
       "      <th>Modification</th>\n",
       "      <th>Size</th>\n",
       "      <th>BPCY</th>\n",
       "      <th>WYIELD</th>\n",
       "      <th>ModificationType</th>\n",
       "    </tr>\n",
       "  </thead>\n",
       "  <tbody>\n",
       "    <tr>\n",
       "      <th>0</th>\n",
       "      <td>{'b0754': 4, 'b2600': 4, 'b1702': 4, 'b2935': ...</td>\n",
       "      <td>24</td>\n",
       "      <td>0.004695</td>\n",
       "      <td>0.349907</td>\n",
       "      <td>2.583333</td>\n",
       "    </tr>\n",
       "    <tr>\n",
       "      <th>1</th>\n",
       "      <td>{'b0754': 4, 'b2600': 4, 'b1702': 4, 'b2935': ...</td>\n",
       "      <td>26</td>\n",
       "      <td>0.005349</td>\n",
       "      <td>0.026629</td>\n",
       "      <td>2.576923</td>\n",
       "    </tr>\n",
       "    <tr>\n",
       "      <th>2</th>\n",
       "      <td>{'b0754': 4, 'b2600': 4, 'b1702': 4, 'b2935': ...</td>\n",
       "      <td>27</td>\n",
       "      <td>0.000000</td>\n",
       "      <td>0.007243</td>\n",
       "      <td>3.148148</td>\n",
       "    </tr>\n",
       "    <tr>\n",
       "      <th>3</th>\n",
       "      <td>{'b0754': 4, 'b2600': 4, 'b1702': 4, 'b2935': ...</td>\n",
       "      <td>26</td>\n",
       "      <td>0.005261</td>\n",
       "      <td>0.026927</td>\n",
       "      <td>1.692308</td>\n",
       "    </tr>\n",
       "    <tr>\n",
       "      <th>4</th>\n",
       "      <td>{'b0754': 4, 'b2600': 4, 'b1702': 4, 'b2935': ...</td>\n",
       "      <td>26</td>\n",
       "      <td>0.000000</td>\n",
       "      <td>0.007243</td>\n",
       "      <td>3.076923</td>\n",
       "    </tr>\n",
       "    <tr>\n",
       "      <th>...</th>\n",
       "      <td>...</td>\n",
       "      <td>...</td>\n",
       "      <td>...</td>\n",
       "      <td>...</td>\n",
       "      <td>...</td>\n",
       "    </tr>\n",
       "    <tr>\n",
       "      <th>85</th>\n",
       "      <td>{'b0754': 4, 'b2600': 4, 'b1702': 4, 'b2935': ...</td>\n",
       "      <td>27</td>\n",
       "      <td>0.005262</td>\n",
       "      <td>0.026925</td>\n",
       "      <td>2.111111</td>\n",
       "    </tr>\n",
       "    <tr>\n",
       "      <th>86</th>\n",
       "      <td>{'b0754': 4, 'b2600': 4, 'b1702': 4, 'b2935': ...</td>\n",
       "      <td>27</td>\n",
       "      <td>0.005341</td>\n",
       "      <td>0.026631</td>\n",
       "      <td>2.851852</td>\n",
       "    </tr>\n",
       "    <tr>\n",
       "      <th>87</th>\n",
       "      <td>{'b0754': 4, 'b2600': 4, 'b1702': 4, 'b2935': ...</td>\n",
       "      <td>26</td>\n",
       "      <td>0.005349</td>\n",
       "      <td>0.026629</td>\n",
       "      <td>2.269231</td>\n",
       "    </tr>\n",
       "    <tr>\n",
       "      <th>88</th>\n",
       "      <td>{'b0754': 4, 'b2600': 4, 'b1702': 4, 'b2935': ...</td>\n",
       "      <td>27</td>\n",
       "      <td>0.004844</td>\n",
       "      <td>0.341499</td>\n",
       "      <td>2.259259</td>\n",
       "    </tr>\n",
       "    <tr>\n",
       "      <th>89</th>\n",
       "      <td>{'b0754': 4, 'b2600': 4, 'b1702': 4, 'b2935': ...</td>\n",
       "      <td>27</td>\n",
       "      <td>0.005304</td>\n",
       "      <td>0.026799</td>\n",
       "      <td>2.259259</td>\n",
       "    </tr>\n",
       "  </tbody>\n",
       "</table>\n",
       "<p>90 rows × 5 columns</p>\n",
       "</div>"
      ],
      "text/plain": [
       "                                         Modification  Size      BPCY  \\\n",
       "0   {'b0754': 4, 'b2600': 4, 'b1702': 4, 'b2935': ...    24  0.004695   \n",
       "1   {'b0754': 4, 'b2600': 4, 'b1702': 4, 'b2935': ...    26  0.005349   \n",
       "2   {'b0754': 4, 'b2600': 4, 'b1702': 4, 'b2935': ...    27  0.000000   \n",
       "3   {'b0754': 4, 'b2600': 4, 'b1702': 4, 'b2935': ...    26  0.005261   \n",
       "4   {'b0754': 4, 'b2600': 4, 'b1702': 4, 'b2935': ...    26  0.000000   \n",
       "..                                                ...   ...       ...   \n",
       "85  {'b0754': 4, 'b2600': 4, 'b1702': 4, 'b2935': ...    27  0.005262   \n",
       "86  {'b0754': 4, 'b2600': 4, 'b1702': 4, 'b2935': ...    27  0.005341   \n",
       "87  {'b0754': 4, 'b2600': 4, 'b1702': 4, 'b2935': ...    26  0.005349   \n",
       "88  {'b0754': 4, 'b2600': 4, 'b1702': 4, 'b2935': ...    27  0.004844   \n",
       "89  {'b0754': 4, 'b2600': 4, 'b1702': 4, 'b2935': ...    27  0.005304   \n",
       "\n",
       "      WYIELD  ModificationType  \n",
       "0   0.349907          2.583333  \n",
       "1   0.026629          2.576923  \n",
       "2   0.007243          3.148148  \n",
       "3   0.026927          1.692308  \n",
       "4   0.007243          3.076923  \n",
       "..       ...               ...  \n",
       "85  0.026925          2.111111  \n",
       "86  0.026631          2.851852  \n",
       "87  0.026629          2.269231  \n",
       "88  0.341499          2.259259  \n",
       "89  0.026799          2.259259  \n",
       "\n",
       "[90 rows x 5 columns]"
      ]
     },
     "execution_count": 6,
     "metadata": {},
     "output_type": "execute_result"
    }
   ],
   "source": [
    "results_pnarin = pd.read_csv(\"Output_files/2(50%BIOMASS:4 OVER (Gene knockout missing)/results_8-prenylnaringenin_06-06_23_01.csv\", sep=\",\", index_col=False)\n",
    "results_pnarin.pop(results_pnarin.columns[0])\n",
    "\n",
    "print(f\"This dataframe has: {results_pnarin.shape[0] - 1} solutions and {results_pnarin.shape[1]} columns.\")\n",
    "\n",
    "results_pnarin"
   ]
  },
  {
   "cell_type": "code",
   "execution_count": 3,
   "metadata": {},
   "outputs": [
    {
     "name": "stdout",
     "output_type": "stream",
     "text": [
      "{'EX_8-pnarin_e': [1.096230955858458, 1.2180343953982906]}\n"
     ]
    }
   ],
   "source": [
    "model1 = read_sbml_model(\"models/edited_e_coli_w_fixed_biomass.xml\")\n",
    "\n",
    "GLC = \"EX_glc__D_e\"\n",
    "\n",
    "envcond = { \n",
    "        GLC: (-10.0, 100000.0)\n",
    "        }\n",
    "\n",
    "BIOMASS_ID = 'BIOMASS_Ec_iML1515_core_75p37M'\n",
    "PRODUCT_ID = 'EX_8-pnarin_e'\n",
    "\n",
    "simul1 = get_simulator(model1, envcond=envcond)\n",
    "pnarin_FVA = simul1.FVA(reactions = [PRODUCT_ID])\n",
    "\n",
    "pnarin_FLUX = 0\n",
    "for key, value in pnarin_FVA.items():\n",
    "        pnarin_FLUX += value[1]\n",
    "\n",
    "print(pnarin_FVA)"
   ]
  },
  {
   "cell_type": "code",
   "execution_count": 4,
   "metadata": {},
   "outputs": [
    {
     "data": {
      "text/html": [
       "<div>\n",
       "<style scoped>\n",
       "    .dataframe tbody tr th:only-of-type {\n",
       "        vertical-align: middle;\n",
       "    }\n",
       "\n",
       "    .dataframe tbody tr th {\n",
       "        vertical-align: top;\n",
       "    }\n",
       "\n",
       "    .dataframe thead th {\n",
       "        text-align: right;\n",
       "    }\n",
       "</style>\n",
       "<table border=\"1\" class=\"dataframe\">\n",
       "  <thead>\n",
       "    <tr style=\"text-align: right;\">\n",
       "      <th></th>\n",
       "      <th>Minimum</th>\n",
       "      <th>Maximum</th>\n",
       "    </tr>\n",
       "    <tr>\n",
       "      <th>Reaction ID</th>\n",
       "      <th></th>\n",
       "      <th></th>\n",
       "    </tr>\n",
       "  </thead>\n",
       "  <tbody>\n",
       "    <tr>\n",
       "      <th>EX_8-pnarin_e</th>\n",
       "      <td>1.096231</td>\n",
       "      <td>1.218034</td>\n",
       "    </tr>\n",
       "  </tbody>\n",
       "</table>\n",
       "</div>"
      ],
      "text/plain": [
       "                Minimum   Maximum\n",
       "Reaction ID                      \n",
       "EX_8-pnarin_e  1.096231  1.218034"
      ]
     },
     "execution_count": 4,
     "metadata": {},
     "output_type": "execute_result"
    }
   ],
   "source": [
    "simul1.FVA(reactions = [PRODUCT_ID], format=\"df\")"
   ]
  },
  {
   "cell_type": "code",
   "execution_count": 5,
   "metadata": {},
   "outputs": [
    {
     "name": "stdout",
     "output_type": "stream",
     "text": [
      "                                        Modification  Size      BPCY  \\\n",
      "1  {'b0754': 4, 'b2600': 4, 'b1702': 4, 'b2935': ...    26  0.005349   \n",
      "\n",
      "     WYIELD  ModificationType  \n",
      "1  0.026629          2.576923  \n",
      "{'b0754': 4, 'b2600': 4, 'b1702': 4, 'b2935': 4, 'b0908': 4, 'b0388': 4, 'b2329': 4, 'b3281': 4, 'b1693': 4, 'b3389': 4, 'b2715': 0, 'b1241': 0, 'b1676': 0, 'b0933': 0, 'b2222': 0, 'b0173': 32, 'b1392': 0, 'b0575': 0, 'b0306': 0, 'b1095': 0, 'b2047': 0.125, 'b3940': 0, 'b2036': 0, 'b2788': 0, 'b2146': 0, 'b1008': 32}\n"
     ]
    }
   ],
   "source": [
    "max = results_pnarin[\"BPCY\"].max()\n",
    "\n",
    "matching_rows = results_pnarin.loc[results_pnarin[\"BPCY\"] == max]\n",
    "\n",
    "print(matching_rows)\n",
    "print(matching_rows[\"Modification\"][1])\n",
    "\n"
   ]
  },
  {
   "cell_type": "code",
   "execution_count": 6,
   "metadata": {},
   "outputs": [
    {
     "data": {
      "text/plain": [
       "{'SHK3Dr': (5.514142480377548, 10000),\n",
       " 'PSCVT': (5.514142480377548, 10000),\n",
       " 'CHORM': (5.416886366588098, 10000),\n",
       " 'CHORS': (5.514142480377549, 10000),\n",
       " 'DHQTi': (5.514142480377549, 10000),\n",
       " 'TKT1': (5.463668146004195, 10000),\n",
       " 'DXPRIi': (39.00929531537208, 10000),\n",
       " 'BUTCT': (0, 0),\n",
       " 'UDPGALM': (0, 0),\n",
       " 'DDPA': (5.514142480377549, 10000),\n",
       " 'PPND': (5.416886366588099, 10000),\n",
       " 'TKT2': (-10000, -0.049723035739553216),\n",
       " 'ETHSO3abcpp': (0, 0),\n",
       " 'SULFACabcpp': (0, 0),\n",
       " 'MSO3abcpp': (0, 0),\n",
       " 'AGt3': (0, 0),\n",
       " 'SHKK': (5.514142480377548, 10000),\n",
       " 'CUt3': (0, 0),\n",
       " 'HXCT': (0, 0),\n",
       " 'DURADx': (0, 0),\n",
       " 'DHQS': (5.514142480377549, 10000),\n",
       " '3OAS181': (0, 0),\n",
       " 'PACCOAE': (0, 0)}"
      ]
     },
     "execution_count": 6,
     "metadata": {},
     "output_type": "execute_result"
    }
   ],
   "source": [
    "from mewpy.problems import GOUProblem\n",
    "GLC = \"EX_glc__D_e\"\n",
    "envcond = {GLC: (-10.0, 1000.0)}\n",
    "\n",
    "ovalue = 4\n",
    "\n",
    "problem1 = GOUProblem(simul1,[], envcond=envcond) \n",
    "sim = problem1.simulator\n",
    "solution = {'b0754': 4, 'b2600': 4, 'b1702': 4, 'b2935': 4, 'b0908': 4, 'b0388': 4, 'b2329': 4, 'b3281': 4, 'b1693': 4, 'b3389': 4, 'b2715': 0, 'b1241': 0, 'b1676': 0, 'b0933': 0, 'b2222': 0, 'b0173': 32, 'b1392': 0, 'b0575': 0, 'b0306': 0, 'b1095': 0, 'b2047': 0.125, 'b3940': 0, 'b2036': 0, 'b2788': 0, 'b2146': 0, 'b1008': 32}\n",
    "\n",
    "\n",
    "\n",
    "constraints = problem1.solution_to_constraints(solution)\n",
    "constraints"
   ]
  },
  {
   "cell_type": "code",
   "execution_count": 7,
   "metadata": {},
   "outputs": [
    {
     "name": "stderr",
     "output_type": "stream",
     "text": [
      "/Users/tiago_silva/opt/anaconda3/lib/python3.9/site-packages/cobra/util/solver.py:554: UserWarning: Solver status is 'infeasible'.\n",
      "  warn(f\"Solver status is '{status}'.\", UserWarning)\n",
      "/Users/tiago_silva/opt/anaconda3/lib/python3.9/site-packages/cobra/util/solver.py:554: UserWarning: Solver status is 'infeasible'.\n",
      "  warn(f\"Solver status is '{status}'.\", UserWarning)\n"
     ]
    },
    {
     "name": "stdout",
     "output_type": "stream",
     "text": [
      "Biomass: 0.42113152242768\n",
      "8-Prenylnaringenin: 39.008289232165\n",
      "Xanthohumol: 0.0\n",
      "\n"
     ]
    },
    {
     "name": "stderr",
     "output_type": "stream",
     "text": [
      "/Users/tiago_silva/opt/anaconda3/lib/python3.9/site-packages/cobra/util/solver.py:554: UserWarning: Solver status is 'infeasible'.\n",
      "  warn(f\"Solver status is '{status}'.\", UserWarning)\n"
     ]
    }
   ],
   "source": [
    "print(\"Biomass:\",sim.simulate(constraints=constraints).fluxes[\"BIOMASS_Ec_iML1515_core_75p37M\"])\n",
    "print(\"8-Prenylnaringenin:\",sim.simulate(constraints=constraints).fluxes[\"EX_8-pnarin_e\"])\n",
    "print(\"Xanthohumol:\",sim.simulate(constraints=constraints).fluxes[\"EX_xh_e\"])\n",
    "print()"
   ]
  },
  {
   "attachments": {},
   "cell_type": "markdown",
   "metadata": {},
   "source": [
    "# DATA PROCESSING XANTHOHUMOL\n"
   ]
  },
  {
   "cell_type": "code",
   "execution_count": 8,
   "metadata": {},
   "outputs": [
    {
     "name": "stdout",
     "output_type": "stream",
     "text": [
      "This dataframe has: 6 solutions and 5 columns.\n"
     ]
    },
    {
     "data": {
      "text/html": [
       "<div>\n",
       "<style scoped>\n",
       "    .dataframe tbody tr th:only-of-type {\n",
       "        vertical-align: middle;\n",
       "    }\n",
       "\n",
       "    .dataframe tbody tr th {\n",
       "        vertical-align: top;\n",
       "    }\n",
       "\n",
       "    .dataframe thead th {\n",
       "        text-align: right;\n",
       "    }\n",
       "</style>\n",
       "<table border=\"1\" class=\"dataframe\">\n",
       "  <thead>\n",
       "    <tr style=\"text-align: right;\">\n",
       "      <th></th>\n",
       "      <th>Modification</th>\n",
       "      <th>Size</th>\n",
       "      <th>BPCY</th>\n",
       "      <th>WYIELD</th>\n",
       "      <th>ModificationType</th>\n",
       "    </tr>\n",
       "  </thead>\n",
       "  <tbody>\n",
       "    <tr>\n",
       "      <th>0</th>\n",
       "      <td>{'b0754': 4, 'b2600': 4, 'b1702': 4, 'b2935': ...</td>\n",
       "      <td>27</td>\n",
       "      <td>0.00000</td>\n",
       "      <td>0.006472</td>\n",
       "      <td>3.148148</td>\n",
       "    </tr>\n",
       "    <tr>\n",
       "      <th>1</th>\n",
       "      <td>{'b0754': 4, 'b2600': 4, 'b1702': 4, 'b2935': ...</td>\n",
       "      <td>27</td>\n",
       "      <td>0.04477</td>\n",
       "      <td>1.024821</td>\n",
       "      <td>2.851852</td>\n",
       "    </tr>\n",
       "    <tr>\n",
       "      <th>2</th>\n",
       "      <td>{'b0754': 4, 'b2600': 4, 'b1702': 4, 'b2935': ...</td>\n",
       "      <td>27</td>\n",
       "      <td>0.00000</td>\n",
       "      <td>0.312129</td>\n",
       "      <td>3.037037</td>\n",
       "    </tr>\n",
       "    <tr>\n",
       "      <th>3</th>\n",
       "      <td>{'b0754': 4, 'b2600': 4, 'b1702': 4, 'b2935': ...</td>\n",
       "      <td>27</td>\n",
       "      <td>0.04477</td>\n",
       "      <td>1.024821</td>\n",
       "      <td>2.851852</td>\n",
       "    </tr>\n",
       "    <tr>\n",
       "      <th>4</th>\n",
       "      <td>{'b0754': 4, 'b2600': 4, 'b1702': 4, 'b2935': ...</td>\n",
       "      <td>27</td>\n",
       "      <td>0.04477</td>\n",
       "      <td>1.024821</td>\n",
       "      <td>2.851852</td>\n",
       "    </tr>\n",
       "    <tr>\n",
       "      <th>5</th>\n",
       "      <td>{'b0754': 4, 'b2600': 4, 'b1702': 4, 'b2935': ...</td>\n",
       "      <td>27</td>\n",
       "      <td>0.04477</td>\n",
       "      <td>1.024821</td>\n",
       "      <td>2.851852</td>\n",
       "    </tr>\n",
       "    <tr>\n",
       "      <th>6</th>\n",
       "      <td>{'b0754': 4, 'b2600': 4, 'b1702': 4, 'b2935': ...</td>\n",
       "      <td>27</td>\n",
       "      <td>0.04477</td>\n",
       "      <td>1.024821</td>\n",
       "      <td>2.851852</td>\n",
       "    </tr>\n",
       "  </tbody>\n",
       "</table>\n",
       "</div>"
      ],
      "text/plain": [
       "                                        Modification  Size     BPCY    WYIELD  \\\n",
       "0  {'b0754': 4, 'b2600': 4, 'b1702': 4, 'b2935': ...    27  0.00000  0.006472   \n",
       "1  {'b0754': 4, 'b2600': 4, 'b1702': 4, 'b2935': ...    27  0.04477  1.024821   \n",
       "2  {'b0754': 4, 'b2600': 4, 'b1702': 4, 'b2935': ...    27  0.00000  0.312129   \n",
       "3  {'b0754': 4, 'b2600': 4, 'b1702': 4, 'b2935': ...    27  0.04477  1.024821   \n",
       "4  {'b0754': 4, 'b2600': 4, 'b1702': 4, 'b2935': ...    27  0.04477  1.024821   \n",
       "5  {'b0754': 4, 'b2600': 4, 'b1702': 4, 'b2935': ...    27  0.04477  1.024821   \n",
       "6  {'b0754': 4, 'b2600': 4, 'b1702': 4, 'b2935': ...    27  0.04477  1.024821   \n",
       "\n",
       "   ModificationType  \n",
       "0          3.148148  \n",
       "1          2.851852  \n",
       "2          3.037037  \n",
       "3          2.851852  \n",
       "4          2.851852  \n",
       "5          2.851852  \n",
       "6          2.851852  "
      ]
     },
     "execution_count": 8,
     "metadata": {},
     "output_type": "execute_result"
    }
   ],
   "source": [
    "results_xanto = pd.read_csv(\"Output_files/2(50%BIOMASS:4 OVER (Gene knockout missing)/results_xanthohumol_07-06_17_52.csv\", sep=\",\", index_col=False)\n",
    "results_xanto.pop(results_xanto.columns[0])\n",
    "\n",
    "print(f\"This dataframe has: {results_xanto.shape[0] - 1} solutions and {results_xanto.shape[1]} columns.\")\n",
    "\n",
    "results_xanto"
   ]
  },
  {
   "cell_type": "code",
   "execution_count": 9,
   "metadata": {},
   "outputs": [
    {
     "name": "stdout",
     "output_type": "stream",
     "text": [
      "{'EX_xh_e': [0.0, 0.11032820062745417]}\n"
     ]
    }
   ],
   "source": [
    "model2 = read_sbml_model(\"models/edited_e_coli_w_fixed_biomass.xml\")\n",
    "\n",
    "GLC = \"EX_glc__D_e\"\n",
    "\n",
    "envcond = { \n",
    "        GLC: (-10.0, 100000.0)\n",
    "        }\n",
    "\n",
    "BIOMASS_ID = 'BIOMASS_Ec_iML1515_core_75p37M'\n",
    "PRODUCT_ID = 'EX_xh_e'\n",
    "\n",
    "simul2 = get_simulator(model2, envcond=envcond)\n",
    "xanto_FVA = simul2.FVA(reactions = [PRODUCT_ID])\n",
    "\n",
    "xanto_FLUX = 0\n",
    "for key, value in xanto_FVA.items():\n",
    "        xanto_FLUX += value[1]\n",
    "\n",
    "print(xanto_FVA)"
   ]
  },
  {
   "cell_type": "code",
   "execution_count": 10,
   "metadata": {},
   "outputs": [
    {
     "data": {
      "text/html": [
       "<div>\n",
       "<style scoped>\n",
       "    .dataframe tbody tr th:only-of-type {\n",
       "        vertical-align: middle;\n",
       "    }\n",
       "\n",
       "    .dataframe tbody tr th {\n",
       "        vertical-align: top;\n",
       "    }\n",
       "\n",
       "    .dataframe thead th {\n",
       "        text-align: right;\n",
       "    }\n",
       "</style>\n",
       "<table border=\"1\" class=\"dataframe\">\n",
       "  <thead>\n",
       "    <tr style=\"text-align: right;\">\n",
       "      <th></th>\n",
       "      <th>Minimum</th>\n",
       "      <th>Maximum</th>\n",
       "    </tr>\n",
       "    <tr>\n",
       "      <th>Reaction ID</th>\n",
       "      <th></th>\n",
       "      <th></th>\n",
       "    </tr>\n",
       "  </thead>\n",
       "  <tbody>\n",
       "    <tr>\n",
       "      <th>EX_xh_e</th>\n",
       "      <td>0.0</td>\n",
       "      <td>0.110328</td>\n",
       "    </tr>\n",
       "  </tbody>\n",
       "</table>\n",
       "</div>"
      ],
      "text/plain": [
       "             Minimum   Maximum\n",
       "Reaction ID                   \n",
       "EX_xh_e          0.0  0.110328"
      ]
     },
     "execution_count": 10,
     "metadata": {},
     "output_type": "execute_result"
    }
   ],
   "source": [
    "simul2.FVA(reactions = [PRODUCT_ID], format=\"df\")"
   ]
  },
  {
   "cell_type": "code",
   "execution_count": 11,
   "metadata": {},
   "outputs": [
    {
     "name": "stdout",
     "output_type": "stream",
     "text": [
      "{'b0754': 4, 'b2600': 4, 'b1702': 4, 'b2935': 4, 'b0908': 4, 'b0388': 4, 'b2329': 4, 'b3281': 4, 'b1693': 4, 'b3389': 4, 'b2715': 0, 'b1241': 0, 'b1676': 0, 'b3063': 0, 'b3137': 0, 'b3619': 0, 'b3945': 0, 'b2934': 0, 'b0078': 0, 'b2918': 0, 'b2177': 0, 'b1528': 0, 'b3032': 0, 'b3903': 0, 'b3546': 0, 'b4019': 8, 'b4013': 0.5}\n"
     ]
    },
    {
     "data": {
      "text/html": [
       "<div>\n",
       "<style scoped>\n",
       "    .dataframe tbody tr th:only-of-type {\n",
       "        vertical-align: middle;\n",
       "    }\n",
       "\n",
       "    .dataframe tbody tr th {\n",
       "        vertical-align: top;\n",
       "    }\n",
       "\n",
       "    .dataframe thead th {\n",
       "        text-align: right;\n",
       "    }\n",
       "</style>\n",
       "<table border=\"1\" class=\"dataframe\">\n",
       "  <thead>\n",
       "    <tr style=\"text-align: right;\">\n",
       "      <th></th>\n",
       "      <th>Modification</th>\n",
       "      <th>Size</th>\n",
       "      <th>BPCY</th>\n",
       "      <th>WYIELD</th>\n",
       "      <th>ModificationType</th>\n",
       "    </tr>\n",
       "  </thead>\n",
       "  <tbody>\n",
       "    <tr>\n",
       "      <th>1</th>\n",
       "      <td>{'b0754': 4, 'b2600': 4, 'b1702': 4, 'b2935': ...</td>\n",
       "      <td>27</td>\n",
       "      <td>0.04477</td>\n",
       "      <td>1.024821</td>\n",
       "      <td>2.851852</td>\n",
       "    </tr>\n",
       "    <tr>\n",
       "      <th>3</th>\n",
       "      <td>{'b0754': 4, 'b2600': 4, 'b1702': 4, 'b2935': ...</td>\n",
       "      <td>27</td>\n",
       "      <td>0.04477</td>\n",
       "      <td>1.024821</td>\n",
       "      <td>2.851852</td>\n",
       "    </tr>\n",
       "    <tr>\n",
       "      <th>4</th>\n",
       "      <td>{'b0754': 4, 'b2600': 4, 'b1702': 4, 'b2935': ...</td>\n",
       "      <td>27</td>\n",
       "      <td>0.04477</td>\n",
       "      <td>1.024821</td>\n",
       "      <td>2.851852</td>\n",
       "    </tr>\n",
       "    <tr>\n",
       "      <th>5</th>\n",
       "      <td>{'b0754': 4, 'b2600': 4, 'b1702': 4, 'b2935': ...</td>\n",
       "      <td>27</td>\n",
       "      <td>0.04477</td>\n",
       "      <td>1.024821</td>\n",
       "      <td>2.851852</td>\n",
       "    </tr>\n",
       "    <tr>\n",
       "      <th>6</th>\n",
       "      <td>{'b0754': 4, 'b2600': 4, 'b1702': 4, 'b2935': ...</td>\n",
       "      <td>27</td>\n",
       "      <td>0.04477</td>\n",
       "      <td>1.024821</td>\n",
       "      <td>2.851852</td>\n",
       "    </tr>\n",
       "  </tbody>\n",
       "</table>\n",
       "</div>"
      ],
      "text/plain": [
       "                                        Modification  Size     BPCY    WYIELD  \\\n",
       "1  {'b0754': 4, 'b2600': 4, 'b1702': 4, 'b2935': ...    27  0.04477  1.024821   \n",
       "3  {'b0754': 4, 'b2600': 4, 'b1702': 4, 'b2935': ...    27  0.04477  1.024821   \n",
       "4  {'b0754': 4, 'b2600': 4, 'b1702': 4, 'b2935': ...    27  0.04477  1.024821   \n",
       "5  {'b0754': 4, 'b2600': 4, 'b1702': 4, 'b2935': ...    27  0.04477  1.024821   \n",
       "6  {'b0754': 4, 'b2600': 4, 'b1702': 4, 'b2935': ...    27  0.04477  1.024821   \n",
       "\n",
       "   ModificationType  \n",
       "1          2.851852  \n",
       "3          2.851852  \n",
       "4          2.851852  \n",
       "5          2.851852  \n",
       "6          2.851852  "
      ]
     },
     "execution_count": 11,
     "metadata": {},
     "output_type": "execute_result"
    }
   ],
   "source": [
    "\n",
    "\n",
    "max = results_xanto[\"BPCY\"].max()\n",
    "\n",
    "matching_rows = results_xanto.loc[results_xanto[\"BPCY\"] == max]\n",
    "\n",
    "print(matching_rows[\"Modification\"][1])\n",
    "            \n",
    "matching_rows"
   ]
  },
  {
   "cell_type": "code",
   "execution_count": 12,
   "metadata": {},
   "outputs": [
    {
     "data": {
      "text/plain": [
       "{'SHK3Dr': (5.514142480377548, 10000),\n",
       " 'PSCVT': (5.514142480377548, 10000),\n",
       " 'CHORM': (5.416886366588098, 10000),\n",
       " 'CHORS': (5.514142480377549, 10000),\n",
       " 'DHQTi': (5.514142480377549, 10000),\n",
       " 'TKT1': (5.463668146004195, 10000),\n",
       " 'RMI': (0, 0),\n",
       " 'AGMHE': (0, 0),\n",
       " 'HSST': (0, 0.032408386874183306),\n",
       " 'DDPA': (5.514142480377549, 10000),\n",
       " 'GLYCDx': (0, 0),\n",
       " 'PPND': (5.416886366588099, 10000),\n",
       " 'TARTRt7pp': (0, 0),\n",
       " 'TKT2': (-10000, -0.049723035739553216),\n",
       " 'METS': (0.5200435253633139, 10000),\n",
       " 'LYXI': (0, 0),\n",
       " 'ARBt3ipp': (0, 0),\n",
       " 'SHKK': (5.514142480377548, 10000),\n",
       " 'DHQS': (5.514142480377549, 10000),\n",
       " 'MELIBt3ipp': (0, 0),\n",
       " 'ALR4x': (0, 0),\n",
       " 'LALDO2x': (0, 0),\n",
       " 'PETNT161pp': (0, 0),\n",
       " 'APPLDHr': (0, 0),\n",
       " 'PETNT181pp': (0, 0)}"
      ]
     },
     "execution_count": 12,
     "metadata": {},
     "output_type": "execute_result"
    }
   ],
   "source": [
    "from mewpy.problems import GOUProblem\n",
    "GLC = \"EX_glc__D_e\"\n",
    "envcond = {GLC: (-10.0, 1000.0)}\n",
    "\n",
    "ovalue = 4\n",
    "\n",
    "problem2 = GOUProblem(simul2,[], envcond=envcond) \n",
    "sim2 = problem2.simulator\n",
    "solution ={'b0754': 4, 'b2600': 4, 'b1702': 4, 'b2935': 4, 'b0908': 4, 'b0388': 4, 'b2329': 4, 'b3281': 4, 'b1693': 4, 'b3389': 4, 'b2715': 0, 'b1241': 0, 'b1676': 0, 'b3063': 0, 'b3137': 0, 'b3619': 0, 'b3945': 0, 'b2934': 0, 'b0078': 0, 'b2918': 0, 'b2177': 0, 'b1528': 0, 'b3032': 0, 'b3903': 0, 'b3546': 0, 'b4019': 8, 'b4013': 0.5}\n",
    "\n",
    "\n",
    "constraints = problem1.solution_to_constraints(solution)\n",
    "constraints"
   ]
  },
  {
   "cell_type": "code",
   "execution_count": 13,
   "metadata": {},
   "outputs": [
    {
     "name": "stdout",
     "output_type": "stream",
     "text": [
      "Biomass: 0.42113152242768\n",
      "8-Prenylnaringenin: 0.0\n",
      "Xanthohumol: 0.4874473138301278\n",
      "\n"
     ]
    },
    {
     "name": "stderr",
     "output_type": "stream",
     "text": [
      "/Users/tiago_silva/opt/anaconda3/lib/python3.9/site-packages/cobra/util/solver.py:554: UserWarning: Solver status is 'infeasible'.\n",
      "  warn(f\"Solver status is '{status}'.\", UserWarning)\n",
      "/Users/tiago_silva/opt/anaconda3/lib/python3.9/site-packages/cobra/util/solver.py:554: UserWarning: Solver status is 'infeasible'.\n",
      "  warn(f\"Solver status is '{status}'.\", UserWarning)\n",
      "/Users/tiago_silva/opt/anaconda3/lib/python3.9/site-packages/cobra/util/solver.py:554: UserWarning: Solver status is 'infeasible'.\n",
      "  warn(f\"Solver status is '{status}'.\", UserWarning)\n"
     ]
    }
   ],
   "source": [
    "print(\"Biomass:\",sim2.simulate(constraints=constraints).fluxes[\"BIOMASS_Ec_iML1515_core_75p37M\"])\n",
    "print(\"8-Prenylnaringenin:\",sim2.simulate(constraints=constraints).fluxes[\"EX_8-pnarin_e\"])\n",
    "print(\"Xanthohumol:\",sim2.simulate(constraints=constraints).fluxes[\"EX_xh_e\"])\n",
    "print()"
   ]
  }
 ],
 "metadata": {
  "kernelspec": {
   "display_name": "base",
   "language": "python",
   "name": "python3"
  },
  "language_info": {
   "codemirror_mode": {
    "name": "ipython",
    "version": 3
   },
   "file_extension": ".py",
   "mimetype": "text/x-python",
   "name": "python",
   "nbconvert_exporter": "python",
   "pygments_lexer": "ipython3",
   "version": "3.9.13"
  },
  "orig_nbformat": 4
 },
 "nbformat": 4,
 "nbformat_minor": 2
}
