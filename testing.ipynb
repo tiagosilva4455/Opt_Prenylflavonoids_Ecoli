{
 "cells": [
  {
   "cell_type": "code",
   "execution_count": 1,
   "metadata": {
    "ExecuteTime": {
     "end_time": "2023-05-28T12:40:49.852755Z",
     "start_time": "2023-05-28T12:40:49.812999Z"
    },
    "collapsed": true
   },
   "outputs": [],
   "source": [
    "import cobra\n",
    "import mewpy"
   ]
  },
  {
   "cell_type": "code",
   "execution_count": 2,
   "metadata": {
    "ExecuteTime": {
     "end_time": "2023-05-28T12:40:54.492301Z",
     "start_time": "2023-05-28T12:40:49.871541Z"
    },
    "collapsed": false
   },
   "outputs": [
    {
     "data": {
      "text/html": [
       "\n",
       "        <table>\n",
       "            <tr>\n",
       "                <td><strong>Name</strong></td>\n",
       "                <td>iML1515</td>\n",
       "            </tr><tr>\n",
       "                <td><strong>Memory address</strong></td>\n",
       "                <td>7fb41b1ef5b0</td>\n",
       "            </tr><tr>\n",
       "                <td><strong>Number of metabolites</strong></td>\n",
       "                <td>1886</td>\n",
       "            </tr><tr>\n",
       "                <td><strong>Number of reactions</strong></td>\n",
       "                <td>2725</td>\n",
       "            </tr><tr>\n",
       "                <td><strong>Number of genes</strong></td>\n",
       "                <td>1529</td>\n",
       "            </tr><tr>\n",
       "                <td><strong>Number of groups</strong></td>\n",
       "                <td>0</td>\n",
       "            </tr><tr>\n",
       "                <td><strong>Objective expression</strong></td>\n",
       "                <td>1.0*BIOMASS_Ec_iML1515_core_75p37M - 1.0*BIOMASS_Ec_iML1515_core_75p37M_reverse_35685</td>\n",
       "            </tr><tr>\n",
       "                <td><strong>Compartments</strong></td>\n",
       "                <td>cytosol, extracellular space, periplasm</td>\n",
       "            </tr>\n",
       "          </table>"
      ],
      "text/plain": [
       "<Model iML1515 at 0x7fb41b1ef5b0>"
      ]
     },
     "execution_count": 2,
     "metadata": {},
     "output_type": "execute_result"
    }
   ],
   "source": [
    "model = cobra.io.read_sbml_model(\"edited_e_coli_w_knockouts.xml\")\n",
    "model"
   ]
  },
  {
   "attachments": {},
   "cell_type": "markdown",
   "metadata": {},
   "source": [
    "### Como objetivo o xanthohumol"
   ]
  },
  {
   "cell_type": "code",
   "execution_count": 3,
   "metadata": {},
   "outputs": [
    {
     "name": "stdout",
     "output_type": "stream",
     "text": [
      "TYRTA:  -2.1109723461195387\n",
      "PHETA1:  0.0\n",
      "PHEt2rpp:  0.0\n",
      "\n",
      "R00697:  0.0\n",
      "R02253:  0.0\n",
      "R00737:  2.110972346119538\n",
      "R01616:  2.110972346119538\n",
      "R01613:  2.110972346119538\n",
      "R02446:  0.0\n",
      "R08003:  2.110972346119538\n",
      "R08004:  2.110972346119538\n",
      "R08951:  0.0\n",
      "\n",
      "Objetivo:  2.110972346119538\n"
     ]
    }
   ],
   "source": [
    "model.objective = \"EX_xh_e\"\n",
    "fba = model.optimize()\n",
    "\n",
    "print('TYRTA: ',  fba.get_primal_by_id(\"TYRTA\"))\n",
    "print('PHETA1: ',  fba.get_primal_by_id(\"PHETA1\"))\n",
    "print('PHEt2rpp: ',fba.get_primal_by_id(\"PHEt2rpp\"))\n",
    "print()\n",
    "\n",
    "print('R00697: ', fba.get_primal_by_id(\"R00697\"))\n",
    "print('R02253: ', fba.get_primal_by_id(\"R02253\"))\n",
    "print('R00737: ', fba.get_primal_by_id(\"R00737\"))\n",
    "print('R01616: ', fba.get_primal_by_id(\"R01616\"))\n",
    "print('R01613: ', fba.get_primal_by_id(\"R01613\"))\n",
    "print('R02446: ', fba.get_primal_by_id(\"R02446\"))\n",
    "print('R08003: ', fba.get_primal_by_id(\"R08003\"))\n",
    "print('R08004: ', fba.get_primal_by_id(\"R08004\"))\n",
    "print('R08951: ', fba.get_primal_by_id(\"R08951\"))\n",
    "\n",
    "print()\n",
    "print('Objetivo: ', fba.objective_value)"
   ]
  },
  {
   "attachments": {},
   "cell_type": "markdown",
   "metadata": {},
   "source": [
    "### Como o objetivo o 8-prenylnaringenin"
   ]
  },
  {
   "cell_type": "code",
   "execution_count": 4,
   "metadata": {},
   "outputs": [
    {
     "name": "stdout",
     "output_type": "stream",
     "text": [
      "TYRTA:  -2.3271428571428565\n",
      "PHETA1:  0.0\n",
      "PHEt2rpp:  0.0\n",
      "\n",
      "R00697:  0.0\n",
      "R02253:  0.0\n",
      "R00737:  2.3271428571428565\n",
      "R01616:  2.327142857142856\n",
      "R01613:  2.3271428571428565\n",
      "R02446:  2.327142857142856\n",
      "R08003:  1.2217890755606713e-16\n",
      "R08004:  0.0\n",
      "R08951:  2.3271428571428565\n",
      "\n",
      "Objetivo:  2.3271428571428565\n"
     ]
    }
   ],
   "source": [
    "model.objective = \"EX_8-pnarin_e\"\n",
    "fba = model.optimize()\n",
    "\n",
    "print('TYRTA: ',  fba.get_primal_by_id(\"TYRTA\"))\n",
    "print('PHETA1: ',  fba.get_primal_by_id(\"PHETA1\"))\n",
    "print('PHEt2rpp: ',fba.get_primal_by_id(\"PHEt2rpp\"))\n",
    "print()\n",
    "\n",
    "print('R00697: ', fba.get_primal_by_id(\"R00697\"))\n",
    "print('R02253: ', fba.get_primal_by_id(\"R02253\"))\n",
    "print('R00737: ', fba.get_primal_by_id(\"R00737\"))\n",
    "print('R01616: ', fba.get_primal_by_id(\"R01616\"))\n",
    "print('R01613: ', fba.get_primal_by_id(\"R01613\"))\n",
    "print('R02446: ', fba.get_primal_by_id(\"R02446\"))\n",
    "print('R08003: ', fba.get_primal_by_id(\"R08003\"))\n",
    "print('R08004: ', fba.get_primal_by_id(\"R08004\"))\n",
    "print('R08951: ', fba.get_primal_by_id(\"R08951\"))\n",
    "\n",
    "print()\n",
    "print('Objetivo: ', fba.objective_value)"
   ]
  },
  {
   "attachments": {},
   "cell_type": "markdown",
   "metadata": {},
   "source": [
    "### Como objetivo a biomassa"
   ]
  },
  {
   "cell_type": "code",
   "execution_count": 5,
   "metadata": {},
   "outputs": [
    {
     "name": "stdout",
     "output_type": "stream",
     "text": [
      "TYRTA:  -0.2843996676227556\n",
      "PHETA1:  1.202561195394789e-16\n",
      "PHEt2rpp:  0.0\n",
      "\n",
      "R00697:  -0.16293108014660537\n",
      "R02253:  -0.16293108014660537\n",
      "R00737:  0.16293108014660537\n",
      "R01616:  -3.556662902732681e-17\n",
      "R01613:  1.310530115262695e-15\n",
      "R02446:  -3.5566629027326813e-17\n",
      "R08003:  0.0\n",
      "R08004:  0.0\n",
      "R08951:  0.0\n",
      "\n",
      "Objetivo:  0.8794487903630218\n"
     ]
    }
   ],
   "source": [
    "model.objective = \"BIOMASS_Ec_iML1515_core_75p37M\"\n",
    "fba = model.optimize()\n",
    "\n",
    "print('TYRTA: ',  fba.get_primal_by_id(\"TYRTA\"))\n",
    "print('PHETA1: ',  fba.get_primal_by_id(\"PHETA1\"))\n",
    "print('PHEt2rpp: ',fba.get_primal_by_id(\"PHEt2rpp\"))\n",
    "print()\n",
    "\n",
    "print('R00697: ', fba.get_primal_by_id(\"R00697\"))\n",
    "print('R02253: ', fba.get_primal_by_id(\"R02253\"))\n",
    "print('R00737: ', fba.get_primal_by_id(\"R00737\"))\n",
    "print('R01616: ', fba.get_primal_by_id(\"R01616\"))\n",
    "print('R01613: ', fba.get_primal_by_id(\"R01613\"))\n",
    "print('R02446: ', fba.get_primal_by_id(\"R02446\"))\n",
    "print('R08003: ', fba.get_primal_by_id(\"R08003\"))\n",
    "print('R08004: ', fba.get_primal_by_id(\"R08004\"))\n",
    "print('R08951: ', fba.get_primal_by_id(\"R08951\"))\n",
    "\n",
    "\n",
    "print()\n",
    "print('Objetivo: ', fba.objective_value)"
   ]
  },
  {
   "attachments": {},
   "cell_type": "markdown",
   "metadata": {},
   "source": [
    "### Fixar o valor de biomassa"
   ]
  },
  {
   "cell_type": "code",
   "execution_count": 6,
   "metadata": {
    "ExecuteTime": {
     "end_time": "2023-05-28T12:40:54.903898Z",
     "start_time": "2023-05-28T12:40:54.902729Z"
    },
    "collapsed": false
   },
   "outputs": [],
   "source": [
    "model.reactions.get_by_id(\"BIOMASS_Ec_iML1515_core_75p37M\").lower_bound = fba.objective_value"
   ]
  },
  {
   "cell_type": "code",
   "execution_count": 7,
   "metadata": {
    "ExecuteTime": {
     "end_time": "2023-05-28T12:40:54.909307Z",
     "start_time": "2023-05-28T12:40:54.906331Z"
    },
    "collapsed": false
   },
   "outputs": [
    {
     "data": {
      "text/html": [
       "\n",
       "        <table>\n",
       "            <tr>\n",
       "                <td><strong>Reaction identifier</strong></td><td>BIOMASS_Ec_iML1515_core_75p37M</td>\n",
       "            </tr><tr>\n",
       "                <td><strong>Name</strong></td><td>E. coli biomass objective function (iML1515) - core - with 75.37 GAM estimate</td>\n",
       "            </tr><tr>\n",
       "                <td><strong>Memory address</strong></td>\n",
       "                <td>0x7fb41b88cd90</td>\n",
       "            </tr><tr>\n",
       "                <td><strong>Stoichiometry</strong></td>\n",
       "                <td>\n",
       "                    <p style='text-align:right'>0.000223 10fthf_c + 2.6e-05 2fe2s_c + 0.000223 2ohph_c + 0.00026 4fe4s_c + 0.513689 ala__L_c + 0.000223 amet_c + 0.295792 arg__L_c + 0.241055 asn__L_c + 0.241055 asp__L_c + 75.55223 atp_c + 2e-06...</p>\n",
       "                    <p style='text-align:right'>0.000223 10-Formyltetrahydrofolate + 2.6e-05 [2Fe-2S] iron-sulfur cluster + 0.000223 2-Octaprenyl-6-hydroxyphenol + 0.00026 [4Fe-4S] iron-sulfur cluster + 0.513689 L-Alanine + 0.000223 S-Adenosyl-...</p>\n",
       "                </td>\n",
       "            </tr><tr>\n",
       "                <td><strong>GPR</strong></td><td></td>\n",
       "            </tr><tr>\n",
       "                <td><strong>Lower bound</strong></td><td>0.8794487903630218</td>\n",
       "            </tr><tr>\n",
       "                <td><strong>Upper bound</strong></td><td>1000.0</td>\n",
       "            </tr>\n",
       "        </table>\n",
       "        "
      ],
      "text/plain": [
       "<Reaction BIOMASS_Ec_iML1515_core_75p37M at 0x7fb41b88cd90>"
      ]
     },
     "execution_count": 7,
     "metadata": {},
     "output_type": "execute_result"
    }
   ],
   "source": [
    "model.reactions.get_by_id(\"BIOMASS_Ec_iML1515_core_75p37M\")"
   ]
  },
  {
   "attachments": {},
   "cell_type": "markdown",
   "metadata": {
    "collapsed": false
   },
   "source": [
    "### Objective xanthohumol"
   ]
  },
  {
   "cell_type": "code",
   "execution_count": 8,
   "metadata": {},
   "outputs": [
    {
     "name": "stdout",
     "output_type": "stream",
     "text": [
      "TYRTA:  -0.2843996676227526\n",
      "PHETA1:  0.0\n",
      "PHEt2rpp:  0.0\n",
      "\n",
      "R00697:  -0.16293108014660526\n",
      "R02253:  -0.16293108014660526\n",
      "R00737:  0.1629310801466024\n",
      "R01616:  -2.878138737285867e-15\n",
      "R01613:  -2.878138737285867e-15\n",
      "R02446:  0.0\n",
      "R08003:  -2.8781387372858677e-15\n",
      "R08004:  -2.878138737285868e-15\n",
      "R08951:  0.0\n",
      "\n",
      "Objetivo:  -2.8781387372858674e-15\n"
     ]
    }
   ],
   "source": [
    "model.objective = \"EX_xh_e\"\n",
    "fba = model.optimize()\n",
    "\n",
    "print('TYRTA: ',  fba.get_primal_by_id(\"TYRTA\"))\n",
    "print('PHETA1: ',  fba.get_primal_by_id(\"PHETA1\"))\n",
    "print('PHEt2rpp: ',fba.get_primal_by_id(\"PHEt2rpp\"))\n",
    "print()\n",
    "\n",
    "print('R00697: ', fba.get_primal_by_id(\"R00697\"))\n",
    "print('R02253: ', fba.get_primal_by_id(\"R02253\"))\n",
    "print('R00737: ', fba.get_primal_by_id(\"R00737\"))\n",
    "print('R01616: ', fba.get_primal_by_id(\"R01616\"))\n",
    "print('R01613: ', fba.get_primal_by_id(\"R01613\"))\n",
    "print('R02446: ', fba.get_primal_by_id(\"R02446\"))\n",
    "print('R08003: ', fba.get_primal_by_id(\"R08003\"))\n",
    "print('R08004: ', fba.get_primal_by_id(\"R08004\"))\n",
    "print('R08951: ', fba.get_primal_by_id(\"R08951\"))\n",
    "\n",
    "print()\n",
    "print('Objetivo: ', fba.objective_value)"
   ]
  },
  {
   "attachments": {},
   "cell_type": "markdown",
   "metadata": {},
   "source": [
    "### Objective prenylnaringenin"
   ]
  },
  {
   "cell_type": "code",
   "execution_count": 9,
   "metadata": {},
   "outputs": [
    {
     "name": "stdout",
     "output_type": "stream",
     "text": [
      "TYRTA:  -0.28439966762272567\n",
      "PHETA1:  0.0\n",
      "PHEt2rpp:  0.0\n",
      "\n",
      "R00697:  -0.16293108014660526\n",
      "R02253:  -0.16293108014660526\n",
      "R00737:  0.1629310801465755\n",
      "R01616:  -2.9777423587738076e-14\n",
      "R01613:  -2.9777423587738076e-14\n",
      "R02446:  -3.039432935251888e-14\n",
      "R08003:  9.638160170154166e-16\n",
      "R08004:  0.0\n",
      "R08951:  -3.039432935251888e-14\n",
      "\n",
      "Objetivo:  -3.0394329352518885e-14\n"
     ]
    }
   ],
   "source": [
    "model.objective = \"EX_8-pnarin_e\"\n",
    "fba = model.optimize()\n",
    "\n",
    "print('TYRTA: ',  fba.get_primal_by_id(\"TYRTA\"))\n",
    "print('PHETA1: ',  fba.get_primal_by_id(\"PHETA1\"))\n",
    "print('PHEt2rpp: ',fba.get_primal_by_id(\"PHEt2rpp\"))\n",
    "print()\n",
    "\n",
    "print('R00697: ', fba.get_primal_by_id(\"R00697\"))\n",
    "print('R02253: ', fba.get_primal_by_id(\"R02253\"))\n",
    "print('R00737: ', fba.get_primal_by_id(\"R00737\"))\n",
    "print('R01616: ', fba.get_primal_by_id(\"R01616\"))\n",
    "print('R01613: ', fba.get_primal_by_id(\"R01613\"))\n",
    "print('R02446: ', fba.get_primal_by_id(\"R02446\"))\n",
    "print('R08003: ', fba.get_primal_by_id(\"R08003\"))\n",
    "print('R08004: ', fba.get_primal_by_id(\"R08004\"))\n",
    "print('R08951: ', fba.get_primal_by_id(\"R08951\"))\n",
    "\n",
    "print()\n",
    "print('Objetivo: ', fba.objective_value)"
   ]
  },
  {
   "cell_type": "code",
   "execution_count": 10,
   "metadata": {},
   "outputs": [],
   "source": [
    "model.objective = \"BIOMASS_Ec_iML1515_core_75p37M\""
   ]
  }
 ],
 "metadata": {
  "kernelspec": {
   "display_name": "Python 3",
   "language": "python",
   "name": "python3"
  },
  "language_info": {
   "codemirror_mode": {
    "name": "ipython",
    "version": 3
   },
   "file_extension": ".py",
   "mimetype": "text/x-python",
   "name": "python",
   "nbconvert_exporter": "python",
   "pygments_lexer": "ipython3",
   "version": "3.9.13"
  }
 },
 "nbformat": 4,
 "nbformat_minor": 0
}
